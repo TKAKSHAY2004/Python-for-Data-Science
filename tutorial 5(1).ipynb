{
 "cells": [
  {
   "cell_type": "markdown",
   "id": "b72f9e70-f39b-4f27-b524-fc3c94afe2f7",
   "metadata": {},
   "source": [
    "Regular Expression"
   ]
  },
  {
   "cell_type": "code",
   "execution_count": 12,
   "id": "1964b4ee-d064-4563-b760-6a6593d9c6bc",
   "metadata": {},
   "outputs": [
    {
     "name": "stdout",
     "output_type": "stream",
     "text": [
      "YES! We have a match!\n"
     ]
    }
   ],
   "source": [
    "import re\n",
    "txt = \"The rainbow is visible\"\n",
    "x = re.search(\"The.*is\", txt)\n",
    "if x:\n",
    "    print(\"YES! We have a match!\")\n",
    "else:\n",
    "    print(\"No match\")"
   ]
  },
  {
   "cell_type": "code",
   "execution_count": null,
   "id": "d61c33c4-5f0d-4292-9f81-74099f33f3e9",
   "metadata": {},
   "outputs": [],
   "source": []
  },
  {
   "cell_type": "markdown",
   "id": "7414ef61-1b2b-40cb-905a-240572aa33dd",
   "metadata": {},
   "source": [
    "Findall()"
   ]
  },
  {
   "cell_type": "code",
   "execution_count": 18,
   "id": "6811cfc0-6558-40b7-a0d9-e53c2fc924a1",
   "metadata": {},
   "outputs": [
    {
     "name": "stdout",
     "output_type": "stream",
     "text": [
      "['is', 'is']\n"
     ]
    }
   ],
   "source": [
    "import re\n",
    "txt = \"The rainbow is visible\"\n",
    "x = re.findall(\"is\", txt)\n",
    "print(x)\n"
   ]
  },
  {
   "cell_type": "code",
   "execution_count": 20,
   "id": "b0ff6d70-9c4a-4af3-9864-418327b62b03",
   "metadata": {},
   "outputs": [
    {
     "name": "stdout",
     "output_type": "stream",
     "text": [
      "[]\n"
     ]
    }
   ],
   "source": [
    "x = re.findall(\"not visible\",txt)\n",
    "print(x)"
   ]
  },
  {
   "cell_type": "code",
   "execution_count": null,
   "id": "ac8cedb8-51c6-402a-ac90-ebeb61e22ebf",
   "metadata": {},
   "outputs": [],
   "source": []
  },
  {
   "cell_type": "markdown",
   "id": "f6a8a644-9e1c-4903-af59-08b7694ffed1",
   "metadata": {},
   "source": [
    "Search()"
   ]
  },
  {
   "cell_type": "code",
   "execution_count": 38,
   "id": "fe0daa6a-2748-48b4-8677-d8a67aab7db5",
   "metadata": {},
   "outputs": [
    {
     "name": "stdout",
     "output_type": "stream",
     "text": [
      "The position: 6\n"
     ]
    }
   ],
   "source": [
    "import re\n",
    "txt = \"The rainbow is visible\"\n",
    "x = re.search(\"i\",txt)\n",
    "print(\"The position:\",x.start())"
   ]
  },
  {
   "cell_type": "code",
   "execution_count": 31,
   "id": "8f4a6743-b76a-44ed-82ee-d613e81982fd",
   "metadata": {},
   "outputs": [
    {
     "name": "stdout",
     "output_type": "stream",
     "text": [
      "None\n"
     ]
    }
   ],
   "source": [
    "x = re.search(\"vbv\",txt)\n",
    "print(x)"
   ]
  },
  {
   "cell_type": "code",
   "execution_count": null,
   "id": "c4631691-ddd8-44f4-a466-55ef582aceda",
   "metadata": {},
   "outputs": [],
   "source": []
  },
  {
   "cell_type": "markdown",
   "id": "5a6266c7-4ce8-4479-8178-48a7c784d8dd",
   "metadata": {},
   "source": [
    "Split()"
   ]
  },
  {
   "cell_type": "code",
   "execution_count": 42,
   "id": "bcac7842-b483-4852-bbeb-0072dfc8d994",
   "metadata": {},
   "outputs": [
    {
     "name": "stdout",
     "output_type": "stream",
     "text": [
      "['The', 'rainbow', 'is', 'visible']\n"
     ]
    }
   ],
   "source": [
    "import re\n",
    "txt = \"The rainbow is visible\"\n",
    "x = re.split(r'\\s',txt)\n",
    "print(x)"
   ]
  },
  {
   "cell_type": "code",
   "execution_count": 44,
   "id": "abcc5b46-6127-4690-9d54-356a55868405",
   "metadata": {},
   "outputs": [
    {
     "name": "stdout",
     "output_type": "stream",
     "text": [
      "['The', 'rainbow', 'is visible']\n"
     ]
    }
   ],
   "source": [
    "x = re.split(r'\\s',txt,2)\n",
    "print(x)"
   ]
  },
  {
   "cell_type": "code",
   "execution_count": null,
   "id": "ab3156d6-278f-4e2a-814c-cf2aaf2a985e",
   "metadata": {},
   "outputs": [],
   "source": []
  },
  {
   "cell_type": "markdown",
   "id": "60d09483-3143-43e2-9e1e-9d5f0942100e",
   "metadata": {},
   "source": [
    "Sub()"
   ]
  },
  {
   "cell_type": "code",
   "execution_count": 49,
   "id": "c7d4aea9-bbc7-4b51-89db-a77373c0cb75",
   "metadata": {},
   "outputs": [
    {
     "name": "stdout",
     "output_type": "stream",
     "text": [
      "The9rainbow9is9visible\n"
     ]
    }
   ],
   "source": [
    "import re\n",
    "txt = \"The rainbow is visible\"\n",
    "x = re.sub(r\"\\s\", \"9\", txt)\n",
    "print(x)"
   ]
  },
  {
   "cell_type": "code",
   "execution_count": 51,
   "id": "4666862b-b268-4130-9c2d-46ee02a7a112",
   "metadata": {},
   "outputs": [
    {
     "name": "stdout",
     "output_type": "stream",
     "text": [
      "The9rainbow9is visible\n"
     ]
    }
   ],
   "source": [
    "x = re.sub(r\"\\s\", \"9\", txt, 2)\n",
    "print(x)"
   ]
  },
  {
   "cell_type": "code",
   "execution_count": null,
   "id": "ae75476d-b79b-429b-9b34-aa62f9a77f93",
   "metadata": {},
   "outputs": [],
   "source": []
  },
  {
   "cell_type": "code",
   "execution_count": null,
   "id": "683c8d45-b6a1-4daf-b7fb-cfdfe360cd52",
   "metadata": {},
   "outputs": [],
   "source": []
  }
 ],
 "metadata": {
  "kernelspec": {
   "display_name": "Python 3 (ipykernel)",
   "language": "python",
   "name": "python3"
  },
  "language_info": {
   "codemirror_mode": {
    "name": "ipython",
    "version": 3
   },
   "file_extension": ".py",
   "mimetype": "text/x-python",
   "name": "python",
   "nbconvert_exporter": "python",
   "pygments_lexer": "ipython3",
   "version": "3.12.4"
  }
 },
 "nbformat": 4,
 "nbformat_minor": 5
}
